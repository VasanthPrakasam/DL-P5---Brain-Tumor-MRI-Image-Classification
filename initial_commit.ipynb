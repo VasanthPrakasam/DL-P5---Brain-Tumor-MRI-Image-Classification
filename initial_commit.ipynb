{
  "nbformat": 4,
  "nbformat_minor": 0,
  "metadata": {
    "colab": {
      "provenance": [],
      "gpuType": "T4",
      "authorship_tag": "ABX9TyPBxd30PiK75qyysYWykZEY",
      "include_colab_link": true
    },
    "kernelspec": {
      "name": "python3",
      "display_name": "Python 3"
    },
    "language_info": {
      "name": "python"
    },
    "accelerator": "GPU"
  },
  "cells": [
    {
      "cell_type": "markdown",
      "metadata": {
        "id": "view-in-github",
        "colab_type": "text"
      },
      "source": [
        "<a href=\"https://colab.research.google.com/github/VasanthPrakasam/DL-P5---Building_a_Brain_Tumor_Detector_using_MRI_Images/blob/main/initial_commit.ipynb\" target=\"_parent\"><img src=\"https://colab.research.google.com/assets/colab-badge.svg\" alt=\"Open In Colab\"/></a>"
      ]
    },
    {
      "cell_type": "markdown",
      "source": [
        "# **Finding the MRI brain tumor detection dataset**\n",
        "https://www.kaggle.com/datasets/ivasanthp/brain-tumor-mri-image-classification/data?select=Tumour-20250908T112353Z-1-001"
      ],
      "metadata": {
        "id": "MKPePW3raa86"
      }
    },
    {
      "cell_type": "markdown",
      "source": [
        "# **Import packages**"
      ],
      "metadata": {
        "id": "D0wvJvMia0nZ"
      }
    },
    {
      "cell_type": "code",
      "source": [
        "import pandas as pd\n",
        "import numpy as np\n",
        "import os, shutil\n",
        "import cv2\n",
        "import matplotlib.pyplot as plt\n",
        "import seaborn as sns\n",
        "import matplotlib.image as mpimg\n",
        "%matplotlib inline\n",
        "plt.style.use('ggplot')\n",
        "from tensorflow.keras.preprocessing.image import ImageDataGenerator\n",
        "import torch\n",
        "from torch.utils.data import Dataset, DataLoader, ConcatDataset\n",
        "import glob\n",
        "from sklearn.metrics import confusion_matrix, accuracy_score"
      ],
      "metadata": {
        "id": "ldjdzOfYa1Wo"
      },
      "execution_count": null,
      "outputs": []
    },
    {
      "cell_type": "code",
      "execution_count": null,
      "metadata": {
        "colab": {
          "base_uri": "https://localhost:8080/"
        },
        "id": "XoGkwxwnQt89",
        "outputId": "f70da6d9-017c-4502-d7d0-8610ac82c373"
      },
      "outputs": [
        {
          "output_type": "stream",
          "name": "stdout",
          "text": [
            "Mounted at Vasanth_P\n"
          ]
        }
      ],
      "source": [
        "from google.colab import drive\n",
        "drive.mount('Vasanth_P')"
      ]
    },
    {
      "cell_type": "code",
      "source": [
        "# # dataset\n",
        "# import zipfile\n",
        "# z = zipfile.ZipFile(\"/content/Vasanth_P/MyDrive/Project_4_Brain_Tumor_MRI_Image_Classification/Tumour-20250908T112353Z-1-001.zip\", 'r')\n",
        "# z.extractall()"
      ],
      "metadata": {
        "id": "G5FgT8XcfyIf"
      },
      "execution_count": null,
      "outputs": []
    },
    {
      "cell_type": "code",
      "source": [],
      "metadata": {
        "id": "TxYq-J2EhIUG"
      },
      "execution_count": null,
      "outputs": []
    }
  ]
}